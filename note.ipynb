{
 "cells": [
  {
   "cell_type": "code",
   "execution_count": 5,
   "metadata": {},
   "outputs": [
    {
     "name": "stdout",
     "output_type": "stream",
     "text": [
      "tensor([[[[0.4329]]],\n",
      "\n",
      "\n",
      "        [[[0.2659]]],\n",
      "\n",
      "\n",
      "        [[[0.5226]]],\n",
      "\n",
      "\n",
      "        [[[0.1634]]],\n",
      "\n",
      "\n",
      "        [[[0.7810]]],\n",
      "\n",
      "\n",
      "        [[[0.0512]]],\n",
      "\n",
      "\n",
      "        [[[0.7851]]],\n",
      "\n",
      "\n",
      "        [[[0.9825]]],\n",
      "\n",
      "\n",
      "        [[[0.0787]]],\n",
      "\n",
      "\n",
      "        [[[0.7746]]]])\n"
     ]
    }
   ],
   "source": [
    "import torch\n",
    "a = torch.rand((10, 1, 1, 1))\n",
    "print(a)\n",
    "# ?torch.rand"
   ]
  }
 ],
 "metadata": {
  "kernelspec": {
   "display_name": "lightning",
   "language": "python",
   "name": "python3"
  },
  "language_info": {
   "codemirror_mode": {
    "name": "ipython",
    "version": 3
   },
   "file_extension": ".py",
   "mimetype": "text/x-python",
   "name": "python",
   "nbconvert_exporter": "python",
   "pygments_lexer": "ipython3",
   "version": "3.12.5"
  }
 },
 "nbformat": 4,
 "nbformat_minor": 2
}
